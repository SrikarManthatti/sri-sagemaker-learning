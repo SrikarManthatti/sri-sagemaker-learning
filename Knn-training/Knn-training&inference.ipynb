{
 "cells": [
  {
   "cell_type": "code",
   "execution_count": 1,
   "id": "6cfbc608",
   "metadata": {},
   "outputs": [],
   "source": [
    "import boto3"
   ]
  },
  {
   "cell_type": "code",
   "execution_count": 2,
   "id": "a9b3eab4",
   "metadata": {},
   "outputs": [],
   "source": [
    "region = boto3.Session().region_name\n",
    "\n",
    "# S3 bucket where the original covtype data is downloaded and stored.\n",
    "downloaded_data_bucket = f\"sagemaker-sample-files\"\n",
    "downloaded_data_prefix = \"datasets/tabular/uci_covtype\"\n",
    "s3 = boto3.client(\"s3\")\n",
    "s3.download_file(downloaded_data_bucket, f\"{downloaded_data_prefix}/covtype.data.gz\", \"covtype.data.gz\")"
   ]
  },
  {
   "cell_type": "code",
   "execution_count": 3,
   "id": "161aaddb",
   "metadata": {},
   "outputs": [
    {
     "data": {
      "text/plain": [
       "'ap-southeast-2'"
      ]
     },
     "execution_count": 3,
     "metadata": {},
     "output_type": "execute_result"
    }
   ],
   "source": [
    "region"
   ]
  },
  {
   "cell_type": "code",
   "execution_count": 4,
   "id": "c54f3e1d",
   "metadata": {},
   "outputs": [],
   "source": [
    "!mkdir -p /tmp/covtype/raw\n",
    "!mv covtype.data.gz /tmp/covtype/raw/covtype.data.gz"
   ]
  },
  {
   "cell_type": "code",
   "execution_count": 5,
   "id": "a562d4b2",
   "metadata": {},
   "outputs": [
    {
     "name": "stdout",
     "output_type": "stream",
     "text": [
      "Reading raw data from /tmp/covtype/raw/covtype.data.gz\n"
     ]
    }
   ],
   "source": [
    "import numpy as np\n",
    "import os\n",
    "\n",
    "data_dir = \"/tmp/covtype/\"\n",
    "processed_subdir = \"standardized\"\n",
    "raw_data_file = os.path.join(data_dir, \"raw\", \"covtype.data.gz\")\n",
    "train_features_file = os.path.join(data_dir, processed_subdir, \"train/csv/features.csv\")\n",
    "train_labels_file = os.path.join(data_dir, processed_subdir, \"train/csv/labels.csv\")\n",
    "test_features_file = os.path.join(data_dir, processed_subdir, \"test/csv/features.csv\")\n",
    "test_labels_file = os.path.join(data_dir, processed_subdir, \"test/csv/labels.csv\")\n",
    "\n",
    "# read raw data\n",
    "print(\"Reading raw data from {}\".format(raw_data_file))\n",
    "raw = np.loadtxt(raw_data_file, delimiter=',')\n",
    "\n",
    "# split into train/test with a 90/10 split\n",
    "np.random.seed(0)\n",
    "np.random.shuffle(raw)\n",
    "train_size = int(0.9 * raw.shape[0])\n",
    "train_features = raw[:train_size, :-1]\n",
    "train_labels = raw[:train_size, -1]\n",
    "test_features = raw[train_size:, :-1]\n",
    "test_labels = raw[train_size:, -1]"
   ]
  },
  {
   "cell_type": "code",
   "execution_count": 7,
   "id": "6b28789e",
   "metadata": {},
   "outputs": [
    {
     "data": {
      "text/plain": [
       "array([2.724e+03, 1.600e+02, 1.900e+01, 6.000e+01, 4.000e+00, 1.350e+03,\n",
       "       2.360e+02, 2.400e+02, 1.270e+02, 2.514e+03, 0.000e+00, 0.000e+00,\n",
       "       1.000e+00, 0.000e+00, 0.000e+00, 0.000e+00, 0.000e+00, 0.000e+00,\n",
       "       0.000e+00, 0.000e+00, 0.000e+00, 0.000e+00, 0.000e+00, 0.000e+00,\n",
       "       0.000e+00, 0.000e+00, 0.000e+00, 0.000e+00, 0.000e+00, 0.000e+00,\n",
       "       1.000e+00, 0.000e+00, 0.000e+00, 0.000e+00, 0.000e+00, 0.000e+00,\n",
       "       0.000e+00, 0.000e+00, 0.000e+00, 0.000e+00, 0.000e+00, 0.000e+00,\n",
       "       0.000e+00, 0.000e+00, 0.000e+00, 0.000e+00, 0.000e+00, 0.000e+00,\n",
       "       0.000e+00, 0.000e+00, 0.000e+00, 0.000e+00, 0.000e+00, 0.000e+00,\n",
       "       2.000e+00])"
      ]
     },
     "execution_count": 7,
     "metadata": {},
     "output_type": "execute_result"
    }
   ],
   "source": [
    "raw[1]"
   ]
  },
  {
   "cell_type": "code",
   "execution_count": 8,
   "id": "d1a3674f",
   "metadata": {},
   "outputs": [
    {
     "name": "stdout",
     "output_type": "stream",
     "text": [
      "train_features shape =  (522910, 54)\n",
      "train_labels shape =  (522910,)\n"
     ]
    },
    {
     "data": {
      "text/plain": [
       "0"
      ]
     },
     "execution_count": 8,
     "metadata": {},
     "output_type": "execute_result"
    }
   ],
   "source": [
    "import io\n",
    "import sagemaker.amazon.common as smac\n",
    "\n",
    "print(\"train_features shape = \", train_features.shape)\n",
    "print(\"train_labels shape = \", train_labels.shape)\n",
    "\n",
    "buf = io.BytesIO()\n",
    "smac.write_numpy_to_dense_tensor(buf, train_features, train_labels)\n",
    "buf.seek(0)"
   ]
  },
  {
   "cell_type": "code",
   "execution_count": 9,
   "id": "c759ec72",
   "metadata": {},
   "outputs": [
    {
     "name": "stdout",
     "output_type": "stream",
     "text": [
      "uploaded training data location: s3://sagemaker-ap-southeast-2-748390950101/knn-blog-2018-04-17/train/recordio-pb-data\n"
     ]
    }
   ],
   "source": [
    "import boto3\n",
    "import os\n",
    "import sagemaker\n",
    "\n",
    "bucket = sagemaker.Session().default_bucket()  # modify to your bucket name\n",
    "prefix = \"knn-blog-2018-04-17\"\n",
    "key = \"recordio-pb-data\"\n",
    "\n",
    "boto3.resource(\"s3\").Bucket(bucket).Object(os.path.join(prefix, \"train\", key)).upload_fileobj(buf)\n",
    "s3_train_data = f\"s3://{bucket}/{prefix}/train/{key}\"\n",
    "print(f\"uploaded training data location: {s3_train_data}\")"
   ]
  },
  {
   "cell_type": "code",
   "execution_count": 10,
   "id": "7a4f2244",
   "metadata": {},
   "outputs": [
    {
     "name": "stdout",
     "output_type": "stream",
     "text": [
      "test_features shape = (58102, 54)\n",
      "test_labels shape = (58102,)\n",
      "uploaded test data location: s3://sagemaker-ap-southeast-2-748390950101/knn-blog-2018-04-17/test/recordio-pb-data\n"
     ]
    }
   ],
   "source": [
    "print(f\"test_features shape = {test_features.shape}\")\n",
    "print(f\"test_labels shape = {test_labels.shape}\")\n",
    "\n",
    "buf = io.BytesIO()\n",
    "smac.write_numpy_to_dense_tensor(buf, test_features, test_labels)\n",
    "buf.seek(0)\n",
    "\n",
    "boto3.resource(\"s3\").Bucket(bucket).Object(os.path.join(prefix, \"test\", key)).upload_fileobj(buf)\n",
    "s3_test_data = f\"s3://{bucket}/{prefix}/test/{key}\"\n",
    "print(f\"uploaded test data location: {s3_test_data}\")"
   ]
  },
  {
   "cell_type": "markdown",
   "id": "4c7bac6c",
   "metadata": {},
   "source": [
    "#### Creating an estimator for training"
   ]
  },
  {
   "cell_type": "code",
   "execution_count": 13,
   "id": "3b4eb558",
   "metadata": {},
   "outputs": [],
   "source": [
    "import matplotlib.pyplot as plt\n",
    "\n",
    "import sagemaker\n",
    "from sagemaker import get_execution_role\n",
    "from sagemaker.serializers import CSVSerializer\n",
    "from sagemaker.deserializers import JSONDeserializer\n",
    "\n",
    "from sagemaker.amazon.amazon_estimator import get_image_uri\n",
    "\n",
    "\n",
    "def trained_estimator_from_hyperparams(s3_train_data, hyperparams, output_path, s3_test_data=None):\n",
    "    \"\"\"\n",
    "    Create an Estimator from the given hyperparams, fit to training data,\n",
    "    and return a deployed predictor\n",
    "\n",
    "    \"\"\"\n",
    "    # set up the estimator\n",
    "    knn = sagemaker.estimator.Estimator(\n",
    "        get_image_uri(boto3.Session().region_name, \"knn\"),\n",
    "        get_execution_role(),\n",
    "        instance_count=1,\n",
    "        instance_type=\"ml.m5.2xlarge\",\n",
    "        output_path=output_path,\n",
    "        sagemaker_session=sagemaker.Session(),\n",
    "    )\n",
    "    knn.set_hyperparameters(**hyperparams)\n",
    "\n",
    "    # train a model. fit_input contains the locations of the train and test data\n",
    "    fit_input = {\"train\": s3_train_data}\n",
    "    if s3_test_data is not None:\n",
    "        fit_input[\"test\"] = s3_test_data\n",
    "    knn.fit(fit_input)\n",
    "    return knn"
   ]
  },
  {
   "cell_type": "code",
   "execution_count": 14,
   "id": "0e064022",
   "metadata": {},
   "outputs": [
    {
     "name": "stderr",
     "output_type": "stream",
     "text": [
      "The method get_image_uri has been renamed in sagemaker>=2.\n",
      "See: https://sagemaker.readthedocs.io/en/stable/v2.html for details.\n",
      "Defaulting to the only supported framework/algorithm version: 1. Ignoring framework/algorithm version: 1.\n"
     ]
    },
    {
     "name": "stdout",
     "output_type": "stream",
     "text": [
      "2022-01-05 09:49:13 Starting - Starting the training job...\n",
      "2022-01-05 09:49:16 Starting - Launching requested ML instancesProfilerReport-1641376153: InProgress\n",
      "......\n",
      "2022-01-05 09:50:14 Starting - Preparing the instances for training......\n",
      "2022-01-05 09:51:39 Downloading - Downloading input data...\n",
      "2022-01-05 09:51:57 Training - Downloading the training image.........\n",
      "2022-01-05 09:53:42 Training - Training image download completed. Training in progress..\u001b[34mDocker entrypoint called with argument(s): train\u001b[0m\n",
      "\u001b[34mRunning default environment configuration script\u001b[0m\n",
      "\u001b[34m[01/05/2022 09:53:43 INFO 139870710261568] Reading default configuration from /opt/amazon/lib/python3.7/site-packages/algorithm/resources/default-conf.json: {'_kvstore': 'dist_async', '_log_level': 'info', '_num_gpus': 'auto', '_num_kv_servers': '1', '_tuning_objective_metric': '', '_faiss_index_nprobe': '5', 'epochs': '1', 'feature_dim': 'auto', 'faiss_index_ivf_nlists': 'auto', 'index_metric': 'L2', 'index_type': 'faiss.Flat', 'mini_batch_size': '5000', '_enable_profiler': 'false'}\u001b[0m\n",
      "\u001b[34m[01/05/2022 09:53:43 INFO 139870710261568] Merging with provided configuration from /opt/ml/input/config/hyperparameters.json: {'feature_dim': '54', 'predictor_type': 'classifier', 'sample_size': '200000', 'k': '10'}\u001b[0m\n",
      "\u001b[34m[01/05/2022 09:53:43 INFO 139870710261568] Final configuration: {'_kvstore': 'dist_async', '_log_level': 'info', '_num_gpus': 'auto', '_num_kv_servers': '1', '_tuning_objective_metric': '', '_faiss_index_nprobe': '5', 'epochs': '1', 'feature_dim': '54', 'faiss_index_ivf_nlists': 'auto', 'index_metric': 'L2', 'index_type': 'faiss.Flat', 'mini_batch_size': '5000', '_enable_profiler': 'false', 'predictor_type': 'classifier', 'sample_size': '200000', 'k': '10'}\u001b[0m\n",
      "\u001b[34m[01/05/2022 09:53:48 WARNING 139870710261568] Loggers have already been setup.\u001b[0m\n",
      "\u001b[34m[01/05/2022 09:53:48 INFO 139870710261568] Final configuration: {'_kvstore': 'dist_async', '_log_level': 'info', '_num_gpus': 'auto', '_num_kv_servers': '1', '_tuning_objective_metric': '', '_faiss_index_nprobe': '5', 'epochs': '1', 'feature_dim': '54', 'faiss_index_ivf_nlists': 'auto', 'index_metric': 'L2', 'index_type': 'faiss.Flat', 'mini_batch_size': '5000', '_enable_profiler': 'false', 'predictor_type': 'classifier', 'sample_size': '200000', 'k': '10'}\u001b[0m\n",
      "\u001b[34m[01/05/2022 09:53:48 WARNING 139870710261568] Loggers have already been setup.\u001b[0m\n",
      "\u001b[34m[01/05/2022 09:53:48 INFO 139870710261568] Launching parameter server for role scheduler\u001b[0m\n",
      "\u001b[34m[01/05/2022 09:53:48 INFO 139870710261568] {'ENVROOT': '/opt/amazon', 'PROTOCOL_BUFFERS_PYTHON_IMPLEMENTATION': 'cpp', 'HOSTNAME': 'ip-10-0-120-162.ap-southeast-2.compute.internal', 'TRAINING_JOB_NAME': 'knn-2022-01-05-09-49-13-683', 'NVIDIA_REQUIRE_CUDA': 'cuda>=9.0', 'TRAINING_JOB_ARN': 'arn:aws:sagemaker:ap-southeast-2:748390950101:training-job/knn-2022-01-05-09-49-13-683', 'AWS_CONTAINER_CREDENTIALS_RELATIVE_URI': '/v2/credentials/7a916cfd-5094-40f1-af79-0b66206f612a', 'CANONICAL_ENVROOT': '/opt/amazon', 'PYTHONUNBUFFERED': 'TRUE', 'NVIDIA_VISIBLE_DEVICES': 'void', 'LD_LIBRARY_PATH': '/opt/amazon/lib/python3.7/site-packages/cv2/../../../../lib:/usr/local/nvidia/lib64:/opt/amazon/lib', 'NVIDIA_DRIVER_CAPABILITIES': 'compute,utility', 'AWS_EXECUTION_ENV': 'AWS_ECS_EC2', 'PATH': '/opt/amazon/bin:/usr/local/nvidia/bin:/usr/local/sbin:/usr/local/bin:/usr/sbin:/usr/bin:/sbin:/bin:/opt/amazon/bin:/opt/amazon/bin', 'PWD': '/', 'LANG': 'en_US.utf8', 'SAGEMAKER_METRICS_DIRECTORY': '/opt/ml/output/metrics/sagemaker', 'AWS_REGION': 'ap-southeast-2', 'HOME': '/root', 'SHLVL': '1', 'PROTOCOL_BUFFERS_PYTHON_IMPLEMENTATION_VERSION': '2', 'OMP_NUM_THREADS': '4', 'DMLC_INTERFACE': 'eth0', 'ECS_CONTAINER_METADATA_URI': 'http://169.254.170.2/v3/416d582e-268e-4fec-9b06-c650ded413d2', 'ECS_CONTAINER_METADATA_URI_V4': 'http://169.254.170.2/v4/416d582e-268e-4fec-9b06-c650ded413d2', 'SAGEMAKER_HTTP_PORT': '8080', 'SAGEMAKER_DATA_PATH': '/opt/ml'}\u001b[0m\n",
      "\u001b[34m[01/05/2022 09:53:48 INFO 139870710261568] envs={'ENVROOT': '/opt/amazon', 'PROTOCOL_BUFFERS_PYTHON_IMPLEMENTATION': 'cpp', 'HOSTNAME': 'ip-10-0-120-162.ap-southeast-2.compute.internal', 'TRAINING_JOB_NAME': 'knn-2022-01-05-09-49-13-683', 'NVIDIA_REQUIRE_CUDA': 'cuda>=9.0', 'TRAINING_JOB_ARN': 'arn:aws:sagemaker:ap-southeast-2:748390950101:training-job/knn-2022-01-05-09-49-13-683', 'AWS_CONTAINER_CREDENTIALS_RELATIVE_URI': '/v2/credentials/7a916cfd-5094-40f1-af79-0b66206f612a', 'CANONICAL_ENVROOT': '/opt/amazon', 'PYTHONUNBUFFERED': 'TRUE', 'NVIDIA_VISIBLE_DEVICES': 'void', 'LD_LIBRARY_PATH': '/opt/amazon/lib/python3.7/site-packages/cv2/../../../../lib:/usr/local/nvidia/lib64:/opt/amazon/lib', 'NVIDIA_DRIVER_CAPABILITIES': 'compute,utility', 'AWS_EXECUTION_ENV': 'AWS_ECS_EC2', 'PATH': '/opt/amazon/bin:/usr/local/nvidia/bin:/usr/local/sbin:/usr/local/bin:/usr/sbin:/usr/bin:/sbin:/bin:/opt/amazon/bin:/opt/amazon/bin', 'PWD': '/', 'LANG': 'en_US.utf8', 'SAGEMAKER_METRICS_DIRECTORY': '/opt/ml/output/metrics/sagemaker', 'AWS_REGION': 'ap-southeast-2', 'HOME': '/root', 'SHLVL': '1', 'PROTOCOL_BUFFERS_PYTHON_IMPLEMENTATION_VERSION': '2', 'OMP_NUM_THREADS': '4', 'DMLC_INTERFACE': 'eth0', 'ECS_CONTAINER_METADATA_URI': 'http://169.254.170.2/v3/416d582e-268e-4fec-9b06-c650ded413d2', 'ECS_CONTAINER_METADATA_URI_V4': 'http://169.254.170.2/v4/416d582e-268e-4fec-9b06-c650ded413d2', 'SAGEMAKER_HTTP_PORT': '8080', 'SAGEMAKER_DATA_PATH': '/opt/ml', 'DMLC_ROLE': 'scheduler', 'DMLC_PS_ROOT_URI': '10.0.120.162', 'DMLC_PS_ROOT_PORT': '9000', 'DMLC_NUM_SERVER': '1', 'DMLC_NUM_WORKER': '1'}\u001b[0m\n",
      "\u001b[34m[01/05/2022 09:53:48 INFO 139870710261568] Launching parameter server for role server\u001b[0m\n",
      "\u001b[34m[01/05/2022 09:53:48 INFO 139870710261568] {'ENVROOT': '/opt/amazon', 'PROTOCOL_BUFFERS_PYTHON_IMPLEMENTATION': 'cpp', 'HOSTNAME': 'ip-10-0-120-162.ap-southeast-2.compute.internal', 'TRAINING_JOB_NAME': 'knn-2022-01-05-09-49-13-683', 'NVIDIA_REQUIRE_CUDA': 'cuda>=9.0', 'TRAINING_JOB_ARN': 'arn:aws:sagemaker:ap-southeast-2:748390950101:training-job/knn-2022-01-05-09-49-13-683', 'AWS_CONTAINER_CREDENTIALS_RELATIVE_URI': '/v2/credentials/7a916cfd-5094-40f1-af79-0b66206f612a', 'CANONICAL_ENVROOT': '/opt/amazon', 'PYTHONUNBUFFERED': 'TRUE', 'NVIDIA_VISIBLE_DEVICES': 'void', 'LD_LIBRARY_PATH': '/opt/amazon/lib/python3.7/site-packages/cv2/../../../../lib:/usr/local/nvidia/lib64:/opt/amazon/lib', 'NVIDIA_DRIVER_CAPABILITIES': 'compute,utility', 'AWS_EXECUTION_ENV': 'AWS_ECS_EC2', 'PATH': '/opt/amazon/bin:/usr/local/nvidia/bin:/usr/local/sbin:/usr/local/bin:/usr/sbin:/usr/bin:/sbin:/bin:/opt/amazon/bin:/opt/amazon/bin', 'PWD': '/', 'LANG': 'en_US.utf8', 'SAGEMAKER_METRICS_DIRECTORY': '/opt/ml/output/metrics/sagemaker', 'AWS_REGION': 'ap-southeast-2', 'HOME': '/root', 'SHLVL': '1', 'PROTOCOL_BUFFERS_PYTHON_IMPLEMENTATION_VERSION': '2', 'OMP_NUM_THREADS': '4', 'DMLC_INTERFACE': 'eth0', 'ECS_CONTAINER_METADATA_URI': 'http://169.254.170.2/v3/416d582e-268e-4fec-9b06-c650ded413d2', 'ECS_CONTAINER_METADATA_URI_V4': 'http://169.254.170.2/v4/416d582e-268e-4fec-9b06-c650ded413d2', 'SAGEMAKER_HTTP_PORT': '8080', 'SAGEMAKER_DATA_PATH': '/opt/ml'}\u001b[0m\n",
      "\u001b[34m[01/05/2022 09:53:48 INFO 139870710261568] envs={'ENVROOT': '/opt/amazon', 'PROTOCOL_BUFFERS_PYTHON_IMPLEMENTATION': 'cpp', 'HOSTNAME': 'ip-10-0-120-162.ap-southeast-2.compute.internal', 'TRAINING_JOB_NAME': 'knn-2022-01-05-09-49-13-683', 'NVIDIA_REQUIRE_CUDA': 'cuda>=9.0', 'TRAINING_JOB_ARN': 'arn:aws:sagemaker:ap-southeast-2:748390950101:training-job/knn-2022-01-05-09-49-13-683', 'AWS_CONTAINER_CREDENTIALS_RELATIVE_URI': '/v2/credentials/7a916cfd-5094-40f1-af79-0b66206f612a', 'CANONICAL_ENVROOT': '/opt/amazon', 'PYTHONUNBUFFERED': 'TRUE', 'NVIDIA_VISIBLE_DEVICES': 'void', 'LD_LIBRARY_PATH': '/opt/amazon/lib/python3.7/site-packages/cv2/../../../../lib:/usr/local/nvidia/lib64:/opt/amazon/lib', 'NVIDIA_DRIVER_CAPABILITIES': 'compute,utility', 'AWS_EXECUTION_ENV': 'AWS_ECS_EC2', 'PATH': '/opt/amazon/bin:/usr/local/nvidia/bin:/usr/local/sbin:/usr/local/bin:/usr/sbin:/usr/bin:/sbin:/bin:/opt/amazon/bin:/opt/amazon/bin', 'PWD': '/', 'LANG': 'en_US.utf8', 'SAGEMAKER_METRICS_DIRECTORY': '/opt/ml/output/metrics/sagemaker', 'AWS_REGION': 'ap-southeast-2', 'HOME': '/root', 'SHLVL': '1', 'PROTOCOL_BUFFERS_PYTHON_IMPLEMENTATION_VERSION': '2', 'OMP_NUM_THREADS': '4', 'DMLC_INTERFACE': 'eth0', 'ECS_CONTAINER_METADATA_URI': 'http://169.254.170.2/v3/416d582e-268e-4fec-9b06-c650ded413d2', 'ECS_CONTAINER_METADATA_URI_V4': 'http://169.254.170.2/v4/416d582e-268e-4fec-9b06-c650ded413d2', 'SAGEMAKER_HTTP_PORT': '8080', 'SAGEMAKER_DATA_PATH': '/opt/ml', 'DMLC_ROLE': 'server', 'DMLC_PS_ROOT_URI': '10.0.120.162', 'DMLC_PS_ROOT_PORT': '9000', 'DMLC_NUM_SERVER': '1', 'DMLC_NUM_WORKER': '1'}\u001b[0m\n",
      "\u001b[34m[01/05/2022 09:53:48 INFO 139870710261568] Environment: {'ENVROOT': '/opt/amazon', 'PROTOCOL_BUFFERS_PYTHON_IMPLEMENTATION': 'cpp', 'HOSTNAME': 'ip-10-0-120-162.ap-southeast-2.compute.internal', 'TRAINING_JOB_NAME': 'knn-2022-01-05-09-49-13-683', 'NVIDIA_REQUIRE_CUDA': 'cuda>=9.0', 'TRAINING_JOB_ARN': 'arn:aws:sagemaker:ap-southeast-2:748390950101:training-job/knn-2022-01-05-09-49-13-683', 'AWS_CONTAINER_CREDENTIALS_RELATIVE_URI': '/v2/credentials/7a916cfd-5094-40f1-af79-0b66206f612a', 'CANONICAL_ENVROOT': '/opt/amazon', 'PYTHONUNBUFFERED': 'TRUE', 'NVIDIA_VISIBLE_DEVICES': 'void', 'LD_LIBRARY_PATH': '/opt/amazon/lib/python3.7/site-packages/cv2/../../../../lib:/usr/local/nvidia/lib64:/opt/amazon/lib', 'NVIDIA_DRIVER_CAPABILITIES': 'compute,utility', 'AWS_EXECUTION_ENV': 'AWS_ECS_EC2', 'PATH': '/opt/amazon/bin:/usr/local/nvidia/bin:/usr/local/sbin:/usr/local/bin:/usr/sbin:/usr/bin:/sbin:/bin:/opt/amazon/bin:/opt/amazon/bin', 'PWD': '/', 'LANG': 'en_US.utf8', 'SAGEMAKER_METRICS_DIRECTORY': '/opt/ml/output/metrics/sagemaker', 'AWS_REGION': 'ap-southeast-2', 'HOME': '/root', 'SHLVL': '1', 'PROTOCOL_BUFFERS_PYTHON_IMPLEMENTATION_VERSION': '2', 'OMP_NUM_THREADS': '4', 'DMLC_INTERFACE': 'eth0', 'ECS_CONTAINER_METADATA_URI': 'http://169.254.170.2/v3/416d582e-268e-4fec-9b06-c650ded413d2', 'ECS_CONTAINER_METADATA_URI_V4': 'http://169.254.170.2/v4/416d582e-268e-4fec-9b06-c650ded413d2', 'SAGEMAKER_HTTP_PORT': '8080', 'SAGEMAKER_DATA_PATH': '/opt/ml', 'DMLC_ROLE': 'worker', 'DMLC_PS_ROOT_URI': '10.0.120.162', 'DMLC_PS_ROOT_PORT': '9000', 'DMLC_NUM_SERVER': '1', 'DMLC_NUM_WORKER': '1'}\u001b[0m\n",
      "\u001b[34mProcess 55 is a shell:scheduler.\u001b[0m\n",
      "\u001b[34mProcess 64 is a shell:server.\u001b[0m\n",
      "\u001b[34mProcess 1 is a worker.\u001b[0m\n",
      "\u001b[34m[01/05/2022 09:53:48 INFO 139870710261568] Using default worker.\u001b[0m\n",
      "\u001b[34m[01/05/2022 09:53:48 INFO 139870710261568] Checkpoint loading and saving are disabled.\u001b[0m\n",
      "\u001b[34m[2022-01-05 09:53:48.719] [tensorio] [warning] TensorIO is already initialized; ignoring the initialization routine.\u001b[0m\n",
      "\u001b[34m[01/05/2022 09:53:48 INFO 139870710261568] nvidia-smi: took 0.034 seconds to run.\u001b[0m\n",
      "\u001b[34m[01/05/2022 09:53:48 INFO 139870710261568] nvidia-smi identified 0 GPUs.\u001b[0m\n",
      "\u001b[34m[01/05/2022 09:53:48 INFO 139870710261568] Create Store: dist_async\u001b[0m\n",
      "\u001b[34m[09:53:48] ../src/base.cc:47: Please install cuda driver for GPU use.  No cuda driver detected.\u001b[0m\n"
     ]
    },
    {
     "name": "stdout",
     "output_type": "stream",
     "text": [
      "\u001b[34m[09:53:49] ../src/base.cc:47: Please install cuda driver for GPU use.  No cuda driver detected.\u001b[0m\n",
      "\u001b[34m[09:53:49] ../src/base.cc:47: Please install cuda driver for GPU use.  No cuda driver detected.\u001b[0m\n",
      "\u001b[34m[01/05/2022 09:53:49 ERROR 139870710261568] nvidia-smi: failed to run (127): b'/bin/sh: nvidia-smi: command not found'/\u001b[0m\n",
      "\u001b[34m[01/05/2022 09:53:49 WARNING 139870710261568] Could not determine free memory in MB for GPU device with ID (0).\u001b[0m\n",
      "\u001b[34m[01/05/2022 09:53:49 INFO 139870710261568] Using per-worker sample size = 200000 (Available virtual memory = 30829547520 bytes, GPU free memory = 0 bytes, number of workers = 1). If an out-of-memory error occurs, choose a larger instance type, use dimension reduction, decrease sample_size, and/or decrease mini_batch_size.\u001b[0m\n",
      "\u001b[34m[01/05/2022 09:53:49 INFO 139870710261568] Starting cluster...\u001b[0m\n",
      "\u001b[34m[01/05/2022 09:53:49 INFO 139868093019904] concurrency model: async\u001b[0m\n",
      "\u001b[34m[01/05/2022 09:53:49 INFO 139870710261568] ...Cluster started\u001b[0m\n",
      "\u001b[34m[01/05/2022 09:53:49 INFO 139868093019904] masquerade (NAT) address: None\u001b[0m\n",
      "\u001b[34m[01/05/2022 09:53:49 INFO 139868093019904] passive ports: None\u001b[0m\n",
      "\u001b[34m[01/05/2022 09:53:49 INFO 139870710261568] Verifying connection to 0 peer cluster(s)...\u001b[0m\n",
      "\u001b[34m[01/05/2022 09:53:49 INFO 139868093019904] >>> starting FTP server on 0.0.0.0:8999, pid=1 <<<\u001b[0m\n",
      "\u001b[34m[01/05/2022 09:53:49 INFO 139870710261568] ...Verified connection to 0 peer cluster(s)\u001b[0m\n",
      "\u001b[34m#metrics {\"StartTime\": 1641376429.68251, \"EndTime\": 1641376429.6825492, \"Dimensions\": {\"Algorithm\": \"AWS/KNN\", \"Host\": \"algo-1\", \"Operation\": \"training\", \"Meta\": \"init_train_data_iter\"}, \"Metrics\": {\"Total Records Seen\": {\"sum\": 0.0, \"count\": 1, \"min\": 0, \"max\": 0}, \"Total Batches Seen\": {\"sum\": 0.0, \"count\": 1, \"min\": 0, \"max\": 0}, \"Max Records Seen Between Resets\": {\"sum\": 0.0, \"count\": 1, \"min\": 0, \"max\": 0}, \"Max Batches Seen Between Resets\": {\"sum\": 0.0, \"count\": 1, \"min\": 0, \"max\": 0}, \"Reset Count\": {\"sum\": 0.0, \"count\": 1, \"min\": 0, \"max\": 0}, \"Number of Records Since Last Reset\": {\"sum\": 0.0, \"count\": 1, \"min\": 0, \"max\": 0}, \"Number of Batches Since Last Reset\": {\"sum\": 0.0, \"count\": 1, \"min\": 0, \"max\": 0}}}\u001b[0m\n",
      "\u001b[34m[2022-01-05 09:53:49.685] [tensorio] [info] epoch_stats={\"data_pipeline\": \"/opt/ml/input/data/train\", \"epoch\": 0, \"duration\": 979, \"num_examples\": 1, \"num_bytes\": 2420000}\u001b[0m\n",
      "\u001b[34m[2022-01-05 09:53:50.469] [tensorio] [info] epoch_stats={\"data_pipeline\": \"/opt/ml/input/data/train\", \"epoch\": 1, \"duration\": 783, \"num_examples\": 105, \"num_bytes\": 253088440}\u001b[0m\n",
      "\u001b[34m[01/05/2022 09:53:50 INFO 139870710261568] #progress_metric: host=algo-1, completed 100.0 % of epochs\u001b[0m\n",
      "\u001b[34m#metrics {\"StartTime\": 1641376429.6854331, \"EndTime\": 1641376430.5513906, \"Dimensions\": {\"Algorithm\": \"AWS/KNN\", \"Host\": \"algo-1\", \"Operation\": \"training\", \"epoch\": 0, \"Meta\": \"training_data_iter\"}, \"Metrics\": {\"Total Records Seen\": {\"sum\": 522910.0, \"count\": 1, \"min\": 522910, \"max\": 522910}, \"Total Batches Seen\": {\"sum\": 105.0, \"count\": 1, \"min\": 105, \"max\": 105}, \"Max Records Seen Between Resets\": {\"sum\": 522910.0, \"count\": 1, \"min\": 522910, \"max\": 522910}, \"Max Batches Seen Between Resets\": {\"sum\": 105.0, \"count\": 1, \"min\": 105, \"max\": 105}, \"Reset Count\": {\"sum\": 1.0, \"count\": 1, \"min\": 1, \"max\": 1}, \"Number of Records Since Last Reset\": {\"sum\": 522910.0, \"count\": 1, \"min\": 522910, \"max\": 522910}, \"Number of Batches Since Last Reset\": {\"sum\": 105.0, \"count\": 1, \"min\": 105, \"max\": 105}}}\u001b[0m\n",
      "\u001b[34m[01/05/2022 09:53:50 INFO 139870710261568] #throughput_metric: host=algo-1, train throughput=603771.1839153173 records/second\u001b[0m\n",
      "\u001b[34m[01/05/2022 09:53:50 INFO 139870710261568] Getting reservoir sample from algo-1...\u001b[0m\n",
      "\u001b[34m[01/05/2022 09:53:50 INFO 139868093019904] 10.0.120.162:37010-[] FTP session opened (connect)\u001b[0m\n",
      "\u001b[34m[01/05/2022 09:53:50 INFO 139868093019904] 10.0.120.162:37010-[anonymous] USER 'anonymous' logged in.\u001b[0m\n",
      "\u001b[34m[01/05/2022 09:53:50 INFO 139868093019904] 10.0.120.162:37010-[anonymous] RETR /opt/rs completed=1 bytes=45600300 seconds=0.053\u001b[0m\n",
      "\u001b[34m[01/05/2022 09:53:50 INFO 139868093019904] 10.0.120.162:37010-[anonymous] FTP session closed (disconnect).\u001b[0m\n",
      "\u001b[34m[01/05/2022 09:53:50 INFO 139870710261568] ...Got reservoir sample from algo-1: data=(200000, 54), labels=(200000,), NaNs=0\u001b[0m\n",
      "\u001b[34m[01/05/2022 09:53:50 INFO 139870710261568] Training index...\u001b[0m\n",
      "\u001b[34m[01/05/2022 09:53:50 INFO 139870710261568] ...Finished training index in 0 second(s)\u001b[0m\n",
      "\u001b[34m[01/05/2022 09:53:50 INFO 139870710261568] Adding data to index...\u001b[0m\n",
      "\u001b[34m[01/05/2022 09:53:50 INFO 139870710261568] ...Finished adding data to index in 0 second(s)\u001b[0m\n",
      "\u001b[34m#metrics {\"StartTime\": 1641376428.7057154, \"EndTime\": 1641376430.7811105, \"Dimensions\": {\"Algorithm\": \"AWS/KNN\", \"Host\": \"algo-1\", \"Operation\": \"training\"}, \"Metrics\": {\"initialize.time\": {\"sum\": 947.7345943450928, \"count\": 1, \"min\": 947.7345943450928, \"max\": 947.7345943450928}, \"epochs\": {\"sum\": 1.0, \"count\": 1, \"min\": 1, \"max\": 1}, \"update.time\": {\"sum\": 865.6861782073975, \"count\": 1, \"min\": 865.6861782073975, \"max\": 865.6861782073975}, \"finalize.time\": {\"sum\": 200.5624771118164, \"count\": 1, \"min\": 200.5624771118164, \"max\": 200.5624771118164}, \"model.serialize.time\": {\"sum\": 28.807401657104492, \"count\": 1, \"min\": 28.807401657104492, \"max\": 28.807401657104492}}}\u001b[0m\n",
      "\u001b[34m[01/05/2022 09:53:50 INFO 139870710261568] Searching index...\u001b[0m\n",
      "\u001b[34m[01/05/2022 09:53:51 INFO 139870710261568] ...Done searching index in 1 second(s)\u001b[0m\n",
      "\u001b[34m[01/05/2022 09:53:51 INFO 139870710261568] Searching index...\u001b[0m\n",
      "\u001b[34m[01/05/2022 09:53:52 INFO 139870710261568] ...Done searching index in 0 second(s)\u001b[0m\n",
      "\u001b[34m[01/05/2022 09:53:52 INFO 139870710261568] Searching index...\u001b[0m\n",
      "\u001b[34m[01/05/2022 09:53:53 INFO 139870710261568] ...Done searching index in 0 second(s)\u001b[0m\n",
      "\u001b[34m[01/05/2022 09:53:53 INFO 139870710261568] Searching index...\u001b[0m\n",
      "\u001b[34m[01/05/2022 09:53:54 INFO 139870710261568] ...Done searching index in 0 second(s)\u001b[0m\n",
      "\u001b[34m[01/05/2022 09:53:54 INFO 139870710261568] Searching index...\u001b[0m\n",
      "\u001b[34m[01/05/2022 09:53:54 INFO 139870710261568] ...Done searching index in 0 second(s)\u001b[0m\n",
      "\u001b[34m[01/05/2022 09:53:54 INFO 139870710261568] Searching index...\u001b[0m\n",
      "\u001b[34m[01/05/2022 09:53:55 INFO 139870710261568] ...Done searching index in 0 second(s)\u001b[0m\n",
      "\u001b[34m[01/05/2022 09:53:55 INFO 139870710261568] Searching index...\u001b[0m\n",
      "\u001b[34m[01/05/2022 09:53:56 INFO 139870710261568] ...Done searching index in 0 second(s)\u001b[0m\n",
      "\u001b[34m[01/05/2022 09:53:56 INFO 139870710261568] Searching index...\u001b[0m\n",
      "\u001b[34m[01/05/2022 09:53:56 INFO 139870710261568] ...Done searching index in 0 second(s)\u001b[0m\n",
      "\u001b[34m[01/05/2022 09:53:56 INFO 139870710261568] Searching index...\u001b[0m\n",
      "\u001b[34m[01/05/2022 09:53:57 INFO 139870710261568] ...Done searching index in 0 second(s)\u001b[0m\n",
      "\u001b[34m[01/05/2022 09:53:57 INFO 139870710261568] Searching index...\u001b[0m\n",
      "\u001b[34m[01/05/2022 09:53:58 INFO 139870710261568] ...Done searching index in 0 second(s)\u001b[0m\n",
      "\u001b[34m[01/05/2022 09:53:58 INFO 139870710261568] Searching index...\u001b[0m\n",
      "\u001b[34m[01/05/2022 09:53:58 INFO 139870710261568] ...Done searching index in 0 second(s)\u001b[0m\n",
      "\u001b[34m[01/05/2022 09:53:59 INFO 139870710261568] Searching index...\u001b[0m\n",
      "\u001b[34m[01/05/2022 09:53:59 INFO 139870710261568] ...Done searching index in 0 second(s)\u001b[0m\n",
      "\u001b[34m[2022-01-05 09:53:59.535] [tensorio] [info] epoch_stats={\"data_pipeline\": \"/opt/ml/input/data/test\", \"epoch\": 0, \"duration\": 10815, \"num_examples\": 12, \"num_bytes\": 28121368}\u001b[0m\n",
      "\u001b[34m#metrics {\"StartTime\": 1641376430.781589, \"EndTime\": 1641376439.5493212, \"Dimensions\": {\"Algorithm\": \"AWS/KNN\", \"Host\": \"algo-1\", \"Operation\": \"training\", \"Meta\": \"test_data_iter\"}, \"Metrics\": {\"Total Records Seen\": {\"sum\": 58102.0, \"count\": 1, \"min\": 58102, \"max\": 58102}, \"Total Batches Seen\": {\"sum\": 12.0, \"count\": 1, \"min\": 12, \"max\": 12}, \"Max Records Seen Between Resets\": {\"sum\": 58102.0, \"count\": 1, \"min\": 58102, \"max\": 58102}, \"Max Batches Seen Between Resets\": {\"sum\": 12.0, \"count\": 1, \"min\": 12, \"max\": 12}, \"Reset Count\": {\"sum\": 0.0, \"count\": 1, \"min\": 0, \"max\": 0}, \"Number of Records Since Last Reset\": {\"sum\": 58102.0, \"count\": 1, \"min\": 58102, \"max\": 58102}, \"Number of Batches Since Last Reset\": {\"sum\": 12.0, \"count\": 1, \"min\": 12, \"max\": 12}}}\u001b[0m\n",
      "\u001b[34m[01/05/2022 09:53:59 INFO 139870710261568] #test_score (algo-1) : ('accuracy', 0.9221369316030429)\u001b[0m\n",
      "\u001b[34m[01/05/2022 09:53:59 INFO 139870710261568] #test_score (algo-1) : ('macro_f_1.000', nan)\u001b[0m\n",
      "\u001b[34m[01/05/2022 09:53:59 INFO 139870710261568] #quality_metric: host=algo-1, test accuracy <score>=0.9221369316030429\u001b[0m\n",
      "\u001b[34m[01/05/2022 09:53:59 INFO 139870710261568] #quality_metric: host=algo-1, test macro_f_1.000 <score>=nan\u001b[0m\n",
      "\u001b[34m#metrics {\"StartTime\": 1641376430.7811882, \"EndTime\": 1641376439.5524774, \"Dimensions\": {\"Algorithm\": \"AWS/KNN\", \"Host\": \"algo-1\", \"Operation\": \"training\"}, \"Metrics\": {\"setuptime\": {\"sum\": 15.086174011230469, \"count\": 1, \"min\": 15.086174011230469, \"max\": 15.086174011230469}, \"totaltime\": {\"sum\": 11264.599561691284, \"count\": 1, \"min\": 11264.599561691284, \"max\": 11264.599561691284}}}\u001b[0m\n"
     ]
    },
    {
     "name": "stdout",
     "output_type": "stream",
     "text": [
      "\n",
      "2022-01-05 09:54:12 Uploading - Uploading generated training model\n",
      "2022-01-05 09:54:12 Completed - Training job completed\n",
      "Training seconds: 153\n",
      "Billable seconds: 153\n"
     ]
    }
   ],
   "source": [
    "hyperparams = {\"feature_dim\": 54, \"k\": 10, \"sample_size\": 200000, \"predictor_type\": \"classifier\"}\n",
    "output_path = f\"s3://{bucket}/{prefix}/default_example/output\"\n",
    "knn_estimator = trained_estimator_from_hyperparams(\n",
    "    s3_train_data, hyperparams, output_path, s3_test_data=s3_test_data\n",
    ")"
   ]
  },
  {
   "cell_type": "markdown",
   "id": "4bc9d984",
   "metadata": {},
   "source": [
    "#### Creating an end point for inference purpose"
   ]
  },
  {
   "cell_type": "code",
   "execution_count": 16,
   "id": "c6754e4e",
   "metadata": {},
   "outputs": [
    {
     "name": "stdout",
     "output_type": "stream",
     "text": [
      "setting up the endpoint..\n",
      "----------!"
     ]
    }
   ],
   "source": [
    "def predictor_from_estimator(knn_estimator, estimator_name, instance_type, endpoint_name=None):\n",
    "    knn_predictor = knn_estimator.deploy(\n",
    "        initial_instance_count=1, instance_type=instance_type, endpoint_name=endpoint_name\n",
    "    )\n",
    "    knn_predictor.serializer = CSVSerializer()\n",
    "    knn_predictor.deserializer = JSONDeserializer()\n",
    "    return knn_predictor\n",
    "\n",
    "import time\n",
    "\n",
    "instance_type = \"ml.m4.xlarge\"\n",
    "model_name = \"knn_%s\" % instance_type\n",
    "endpoint_name = \"knn-ml-m4-xlarge-%s\" % (str(time.time()).replace(\".\", \"-\"))\n",
    "print(\"setting up the endpoint..\")\n",
    "predictor = predictor_from_estimator(\n",
    "    knn_estimator, model_name, instance_type, endpoint_name=endpoint_name\n",
    ")"
   ]
  },
  {
   "cell_type": "code",
   "execution_count": null,
   "id": "661323fc",
   "metadata": {},
   "outputs": [
    {
     "name": "stdout",
     "output_type": "stream",
     "text": [
      "data split into 100 batches, of size 582.\n"
     ]
    }
   ],
   "source": [
    "batches = np.array_split(test_features, 100)\n",
    "print(f\"data split into 100 batches, of size {batches[0].shape[0]}.\")\n",
    "\n",
    "# obtain an np array with the predictions for the entire test set\n",
    "start_time = time.time()\n",
    "predictions = []\n",
    "for batch in batches:\n",
    "    result = predictor.predict(batch, initial_args={\"ContentType\": \"text/csv\"})\n",
    "    cur_predictions = np.array(\n",
    "        [result[\"predictions\"][i][\"predicted_label\"] for i in range(len(result[\"predictions\"]))]\n",
    "    )\n",
    "    predictions.append(cur_predictions)\n",
    "predictions = np.concatenate(predictions)\n",
    "run_time = time.time() - start_time\n",
    "\n",
    "test_size = test_labels.shape[0]\n",
    "num_correct = sum(predictions == test_labels)\n",
    "accuracy = num_correct / float(test_size)\n",
    "print(\"time required for predicting %d data point: %.2f seconds\" % (test_size, run_time))\n",
    "print(\"accuracy of model: %.1f%%\" % (accuracy * 100))"
   ]
  },
  {
   "cell_type": "code",
   "execution_count": null,
   "id": "26a8f543",
   "metadata": {},
   "outputs": [],
   "source": []
  }
 ],
 "metadata": {
  "kernelspec": {
   "display_name": "conda_pytorch_p36",
   "language": "python",
   "name": "conda_pytorch_p36"
  },
  "language_info": {
   "codemirror_mode": {
    "name": "ipython",
    "version": 3
   },
   "file_extension": ".py",
   "mimetype": "text/x-python",
   "name": "python",
   "nbconvert_exporter": "python",
   "pygments_lexer": "ipython3",
   "version": "3.6.13"
  }
 },
 "nbformat": 4,
 "nbformat_minor": 5
}
